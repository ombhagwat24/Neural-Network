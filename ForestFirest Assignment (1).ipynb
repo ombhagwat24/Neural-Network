{
 "cells": [
  {
   "cell_type": "code",
   "execution_count": 1,
   "id": "b9c31b30",
   "metadata": {},
   "outputs": [],
   "source": [
    "import pandas as pd \n",
    "import numpy as np\n",
    "from sklearn.preprocessing import StandardScaler\n",
    "import matplotlib.pyplot as plt\n",
    "import tensorflow as tf\n",
    "import seaborn as sns\n",
    "from sklearn.preprocessing import StandardScaler\n",
    "from keras.layers import Dense\n",
    "from sklearn.decomposition import PCA"
   ]
  },
  {
   "cell_type": "code",
   "execution_count": 2,
   "id": "1d9d53d4",
   "metadata": {},
   "outputs": [
    {
     "data": {
      "text/html": [
       "<div>\n",
       "<style scoped>\n",
       "    .dataframe tbody tr th:only-of-type {\n",
       "        vertical-align: middle;\n",
       "    }\n",
       "\n",
       "    .dataframe tbody tr th {\n",
       "        vertical-align: top;\n",
       "    }\n",
       "\n",
       "    .dataframe thead th {\n",
       "        text-align: right;\n",
       "    }\n",
       "</style>\n",
       "<table border=\"1\" class=\"dataframe\">\n",
       "  <thead>\n",
       "    <tr style=\"text-align: right;\">\n",
       "      <th></th>\n",
       "      <th>month</th>\n",
       "      <th>day</th>\n",
       "      <th>FFMC</th>\n",
       "      <th>DMC</th>\n",
       "      <th>DC</th>\n",
       "      <th>ISI</th>\n",
       "      <th>temp</th>\n",
       "      <th>RH</th>\n",
       "      <th>wind</th>\n",
       "      <th>rain</th>\n",
       "      <th>...</th>\n",
       "      <th>monthfeb</th>\n",
       "      <th>monthjan</th>\n",
       "      <th>monthjul</th>\n",
       "      <th>monthjun</th>\n",
       "      <th>monthmar</th>\n",
       "      <th>monthmay</th>\n",
       "      <th>monthnov</th>\n",
       "      <th>monthoct</th>\n",
       "      <th>monthsep</th>\n",
       "      <th>size_category</th>\n",
       "    </tr>\n",
       "  </thead>\n",
       "  <tbody>\n",
       "    <tr>\n",
       "      <th>0</th>\n",
       "      <td>mar</td>\n",
       "      <td>fri</td>\n",
       "      <td>86.2</td>\n",
       "      <td>26.2</td>\n",
       "      <td>94.3</td>\n",
       "      <td>5.1</td>\n",
       "      <td>8.2</td>\n",
       "      <td>51</td>\n",
       "      <td>6.7</td>\n",
       "      <td>0.0</td>\n",
       "      <td>...</td>\n",
       "      <td>0</td>\n",
       "      <td>0</td>\n",
       "      <td>0</td>\n",
       "      <td>0</td>\n",
       "      <td>1</td>\n",
       "      <td>0</td>\n",
       "      <td>0</td>\n",
       "      <td>0</td>\n",
       "      <td>0</td>\n",
       "      <td>small</td>\n",
       "    </tr>\n",
       "    <tr>\n",
       "      <th>1</th>\n",
       "      <td>oct</td>\n",
       "      <td>tue</td>\n",
       "      <td>90.6</td>\n",
       "      <td>35.4</td>\n",
       "      <td>669.1</td>\n",
       "      <td>6.7</td>\n",
       "      <td>18.0</td>\n",
       "      <td>33</td>\n",
       "      <td>0.9</td>\n",
       "      <td>0.0</td>\n",
       "      <td>...</td>\n",
       "      <td>0</td>\n",
       "      <td>0</td>\n",
       "      <td>0</td>\n",
       "      <td>0</td>\n",
       "      <td>0</td>\n",
       "      <td>0</td>\n",
       "      <td>0</td>\n",
       "      <td>1</td>\n",
       "      <td>0</td>\n",
       "      <td>small</td>\n",
       "    </tr>\n",
       "    <tr>\n",
       "      <th>2</th>\n",
       "      <td>oct</td>\n",
       "      <td>sat</td>\n",
       "      <td>90.6</td>\n",
       "      <td>43.7</td>\n",
       "      <td>686.9</td>\n",
       "      <td>6.7</td>\n",
       "      <td>14.6</td>\n",
       "      <td>33</td>\n",
       "      <td>1.3</td>\n",
       "      <td>0.0</td>\n",
       "      <td>...</td>\n",
       "      <td>0</td>\n",
       "      <td>0</td>\n",
       "      <td>0</td>\n",
       "      <td>0</td>\n",
       "      <td>0</td>\n",
       "      <td>0</td>\n",
       "      <td>0</td>\n",
       "      <td>1</td>\n",
       "      <td>0</td>\n",
       "      <td>small</td>\n",
       "    </tr>\n",
       "    <tr>\n",
       "      <th>3</th>\n",
       "      <td>mar</td>\n",
       "      <td>fri</td>\n",
       "      <td>91.7</td>\n",
       "      <td>33.3</td>\n",
       "      <td>77.5</td>\n",
       "      <td>9.0</td>\n",
       "      <td>8.3</td>\n",
       "      <td>97</td>\n",
       "      <td>4.0</td>\n",
       "      <td>0.2</td>\n",
       "      <td>...</td>\n",
       "      <td>0</td>\n",
       "      <td>0</td>\n",
       "      <td>0</td>\n",
       "      <td>0</td>\n",
       "      <td>1</td>\n",
       "      <td>0</td>\n",
       "      <td>0</td>\n",
       "      <td>0</td>\n",
       "      <td>0</td>\n",
       "      <td>small</td>\n",
       "    </tr>\n",
       "    <tr>\n",
       "      <th>4</th>\n",
       "      <td>mar</td>\n",
       "      <td>sun</td>\n",
       "      <td>89.3</td>\n",
       "      <td>51.3</td>\n",
       "      <td>102.2</td>\n",
       "      <td>9.6</td>\n",
       "      <td>11.4</td>\n",
       "      <td>99</td>\n",
       "      <td>1.8</td>\n",
       "      <td>0.0</td>\n",
       "      <td>...</td>\n",
       "      <td>0</td>\n",
       "      <td>0</td>\n",
       "      <td>0</td>\n",
       "      <td>0</td>\n",
       "      <td>1</td>\n",
       "      <td>0</td>\n",
       "      <td>0</td>\n",
       "      <td>0</td>\n",
       "      <td>0</td>\n",
       "      <td>small</td>\n",
       "    </tr>\n",
       "    <tr>\n",
       "      <th>...</th>\n",
       "      <td>...</td>\n",
       "      <td>...</td>\n",
       "      <td>...</td>\n",
       "      <td>...</td>\n",
       "      <td>...</td>\n",
       "      <td>...</td>\n",
       "      <td>...</td>\n",
       "      <td>...</td>\n",
       "      <td>...</td>\n",
       "      <td>...</td>\n",
       "      <td>...</td>\n",
       "      <td>...</td>\n",
       "      <td>...</td>\n",
       "      <td>...</td>\n",
       "      <td>...</td>\n",
       "      <td>...</td>\n",
       "      <td>...</td>\n",
       "      <td>...</td>\n",
       "      <td>...</td>\n",
       "      <td>...</td>\n",
       "      <td>...</td>\n",
       "    </tr>\n",
       "    <tr>\n",
       "      <th>512</th>\n",
       "      <td>aug</td>\n",
       "      <td>sun</td>\n",
       "      <td>81.6</td>\n",
       "      <td>56.7</td>\n",
       "      <td>665.6</td>\n",
       "      <td>1.9</td>\n",
       "      <td>27.8</td>\n",
       "      <td>32</td>\n",
       "      <td>2.7</td>\n",
       "      <td>0.0</td>\n",
       "      <td>...</td>\n",
       "      <td>0</td>\n",
       "      <td>0</td>\n",
       "      <td>0</td>\n",
       "      <td>0</td>\n",
       "      <td>0</td>\n",
       "      <td>0</td>\n",
       "      <td>0</td>\n",
       "      <td>0</td>\n",
       "      <td>0</td>\n",
       "      <td>large</td>\n",
       "    </tr>\n",
       "    <tr>\n",
       "      <th>513</th>\n",
       "      <td>aug</td>\n",
       "      <td>sun</td>\n",
       "      <td>81.6</td>\n",
       "      <td>56.7</td>\n",
       "      <td>665.6</td>\n",
       "      <td>1.9</td>\n",
       "      <td>21.9</td>\n",
       "      <td>71</td>\n",
       "      <td>5.8</td>\n",
       "      <td>0.0</td>\n",
       "      <td>...</td>\n",
       "      <td>0</td>\n",
       "      <td>0</td>\n",
       "      <td>0</td>\n",
       "      <td>0</td>\n",
       "      <td>0</td>\n",
       "      <td>0</td>\n",
       "      <td>0</td>\n",
       "      <td>0</td>\n",
       "      <td>0</td>\n",
       "      <td>large</td>\n",
       "    </tr>\n",
       "    <tr>\n",
       "      <th>514</th>\n",
       "      <td>aug</td>\n",
       "      <td>sun</td>\n",
       "      <td>81.6</td>\n",
       "      <td>56.7</td>\n",
       "      <td>665.6</td>\n",
       "      <td>1.9</td>\n",
       "      <td>21.2</td>\n",
       "      <td>70</td>\n",
       "      <td>6.7</td>\n",
       "      <td>0.0</td>\n",
       "      <td>...</td>\n",
       "      <td>0</td>\n",
       "      <td>0</td>\n",
       "      <td>0</td>\n",
       "      <td>0</td>\n",
       "      <td>0</td>\n",
       "      <td>0</td>\n",
       "      <td>0</td>\n",
       "      <td>0</td>\n",
       "      <td>0</td>\n",
       "      <td>large</td>\n",
       "    </tr>\n",
       "    <tr>\n",
       "      <th>515</th>\n",
       "      <td>aug</td>\n",
       "      <td>sat</td>\n",
       "      <td>94.4</td>\n",
       "      <td>146.0</td>\n",
       "      <td>614.7</td>\n",
       "      <td>11.3</td>\n",
       "      <td>25.6</td>\n",
       "      <td>42</td>\n",
       "      <td>4.0</td>\n",
       "      <td>0.0</td>\n",
       "      <td>...</td>\n",
       "      <td>0</td>\n",
       "      <td>0</td>\n",
       "      <td>0</td>\n",
       "      <td>0</td>\n",
       "      <td>0</td>\n",
       "      <td>0</td>\n",
       "      <td>0</td>\n",
       "      <td>0</td>\n",
       "      <td>0</td>\n",
       "      <td>small</td>\n",
       "    </tr>\n",
       "    <tr>\n",
       "      <th>516</th>\n",
       "      <td>nov</td>\n",
       "      <td>tue</td>\n",
       "      <td>79.5</td>\n",
       "      <td>3.0</td>\n",
       "      <td>106.7</td>\n",
       "      <td>1.1</td>\n",
       "      <td>11.8</td>\n",
       "      <td>31</td>\n",
       "      <td>4.5</td>\n",
       "      <td>0.0</td>\n",
       "      <td>...</td>\n",
       "      <td>0</td>\n",
       "      <td>0</td>\n",
       "      <td>0</td>\n",
       "      <td>0</td>\n",
       "      <td>0</td>\n",
       "      <td>0</td>\n",
       "      <td>1</td>\n",
       "      <td>0</td>\n",
       "      <td>0</td>\n",
       "      <td>small</td>\n",
       "    </tr>\n",
       "  </tbody>\n",
       "</table>\n",
       "<p>517 rows × 31 columns</p>\n",
       "</div>"
      ],
      "text/plain": [
       "    month  day  FFMC    DMC     DC   ISI  temp  RH  wind  rain  ...  monthfeb  \\\n",
       "0     mar  fri  86.2   26.2   94.3   5.1   8.2  51   6.7   0.0  ...         0   \n",
       "1     oct  tue  90.6   35.4  669.1   6.7  18.0  33   0.9   0.0  ...         0   \n",
       "2     oct  sat  90.6   43.7  686.9   6.7  14.6  33   1.3   0.0  ...         0   \n",
       "3     mar  fri  91.7   33.3   77.5   9.0   8.3  97   4.0   0.2  ...         0   \n",
       "4     mar  sun  89.3   51.3  102.2   9.6  11.4  99   1.8   0.0  ...         0   \n",
       "..    ...  ...   ...    ...    ...   ...   ...  ..   ...   ...  ...       ...   \n",
       "512   aug  sun  81.6   56.7  665.6   1.9  27.8  32   2.7   0.0  ...         0   \n",
       "513   aug  sun  81.6   56.7  665.6   1.9  21.9  71   5.8   0.0  ...         0   \n",
       "514   aug  sun  81.6   56.7  665.6   1.9  21.2  70   6.7   0.0  ...         0   \n",
       "515   aug  sat  94.4  146.0  614.7  11.3  25.6  42   4.0   0.0  ...         0   \n",
       "516   nov  tue  79.5    3.0  106.7   1.1  11.8  31   4.5   0.0  ...         0   \n",
       "\n",
       "     monthjan  monthjul  monthjun  monthmar  monthmay  monthnov  monthoct  \\\n",
       "0           0         0         0         1         0         0         0   \n",
       "1           0         0         0         0         0         0         1   \n",
       "2           0         0         0         0         0         0         1   \n",
       "3           0         0         0         1         0         0         0   \n",
       "4           0         0         0         1         0         0         0   \n",
       "..        ...       ...       ...       ...       ...       ...       ...   \n",
       "512         0         0         0         0         0         0         0   \n",
       "513         0         0         0         0         0         0         0   \n",
       "514         0         0         0         0         0         0         0   \n",
       "515         0         0         0         0         0         0         0   \n",
       "516         0         0         0         0         0         1         0   \n",
       "\n",
       "     monthsep  size_category  \n",
       "0           0          small  \n",
       "1           0          small  \n",
       "2           0          small  \n",
       "3           0          small  \n",
       "4           0          small  \n",
       "..        ...            ...  \n",
       "512         0          large  \n",
       "513         0          large  \n",
       "514         0          large  \n",
       "515         0          small  \n",
       "516         0          small  \n",
       "\n",
       "[517 rows x 31 columns]"
      ]
     },
     "execution_count": 2,
     "metadata": {},
     "output_type": "execute_result"
    }
   ],
   "source": [
    "data = pd.read_csv(\"forestfires.csv\")\n",
    "data"
   ]
  },
  {
   "cell_type": "code",
   "execution_count": 3,
   "id": "28578d3d",
   "metadata": {},
   "outputs": [
    {
     "name": "stdout",
     "output_type": "stream",
     "text": [
      "<class 'pandas.core.frame.DataFrame'>\n",
      "RangeIndex: 517 entries, 0 to 516\n",
      "Data columns (total 31 columns):\n",
      " #   Column         Non-Null Count  Dtype  \n",
      "---  ------         --------------  -----  \n",
      " 0   month          517 non-null    object \n",
      " 1   day            517 non-null    object \n",
      " 2   FFMC           517 non-null    float64\n",
      " 3   DMC            517 non-null    float64\n",
      " 4   DC             517 non-null    float64\n",
      " 5   ISI            517 non-null    float64\n",
      " 6   temp           517 non-null    float64\n",
      " 7   RH             517 non-null    int64  \n",
      " 8   wind           517 non-null    float64\n",
      " 9   rain           517 non-null    float64\n",
      " 10  area           517 non-null    float64\n",
      " 11  dayfri         517 non-null    int64  \n",
      " 12  daymon         517 non-null    int64  \n",
      " 13  daysat         517 non-null    int64  \n",
      " 14  daysun         517 non-null    int64  \n",
      " 15  daythu         517 non-null    int64  \n",
      " 16  daytue         517 non-null    int64  \n",
      " 17  daywed         517 non-null    int64  \n",
      " 18  monthapr       517 non-null    int64  \n",
      " 19  monthaug       517 non-null    int64  \n",
      " 20  monthdec       517 non-null    int64  \n",
      " 21  monthfeb       517 non-null    int64  \n",
      " 22  monthjan       517 non-null    int64  \n",
      " 23  monthjul       517 non-null    int64  \n",
      " 24  monthjun       517 non-null    int64  \n",
      " 25  monthmar       517 non-null    int64  \n",
      " 26  monthmay       517 non-null    int64  \n",
      " 27  monthnov       517 non-null    int64  \n",
      " 28  monthoct       517 non-null    int64  \n",
      " 29  monthsep       517 non-null    int64  \n",
      " 30  size_category  517 non-null    object \n",
      "dtypes: float64(8), int64(20), object(3)\n",
      "memory usage: 125.3+ KB\n"
     ]
    }
   ],
   "source": [
    "data.info()"
   ]
  },
  {
   "cell_type": "code",
   "execution_count": 4,
   "id": "46442d70",
   "metadata": {},
   "outputs": [
    {
     "data": {
      "text/html": [
       "<div>\n",
       "<style scoped>\n",
       "    .dataframe tbody tr th:only-of-type {\n",
       "        vertical-align: middle;\n",
       "    }\n",
       "\n",
       "    .dataframe tbody tr th {\n",
       "        vertical-align: top;\n",
       "    }\n",
       "\n",
       "    .dataframe thead th {\n",
       "        text-align: right;\n",
       "    }\n",
       "</style>\n",
       "<table border=\"1\" class=\"dataframe\">\n",
       "  <thead>\n",
       "    <tr style=\"text-align: right;\">\n",
       "      <th></th>\n",
       "      <th>FFMC</th>\n",
       "      <th>DMC</th>\n",
       "      <th>DC</th>\n",
       "      <th>ISI</th>\n",
       "      <th>temp</th>\n",
       "      <th>RH</th>\n",
       "      <th>wind</th>\n",
       "      <th>rain</th>\n",
       "      <th>area</th>\n",
       "      <th>dayfri</th>\n",
       "      <th>...</th>\n",
       "      <th>monthdec</th>\n",
       "      <th>monthfeb</th>\n",
       "      <th>monthjan</th>\n",
       "      <th>monthjul</th>\n",
       "      <th>monthjun</th>\n",
       "      <th>monthmar</th>\n",
       "      <th>monthmay</th>\n",
       "      <th>monthnov</th>\n",
       "      <th>monthoct</th>\n",
       "      <th>monthsep</th>\n",
       "    </tr>\n",
       "  </thead>\n",
       "  <tbody>\n",
       "    <tr>\n",
       "      <th>count</th>\n",
       "      <td>517.000000</td>\n",
       "      <td>517.000000</td>\n",
       "      <td>517.000000</td>\n",
       "      <td>517.000000</td>\n",
       "      <td>517.000000</td>\n",
       "      <td>517.000000</td>\n",
       "      <td>517.000000</td>\n",
       "      <td>517.000000</td>\n",
       "      <td>517.000000</td>\n",
       "      <td>517.000000</td>\n",
       "      <td>...</td>\n",
       "      <td>517.000000</td>\n",
       "      <td>517.000000</td>\n",
       "      <td>517.000000</td>\n",
       "      <td>517.000000</td>\n",
       "      <td>517.000000</td>\n",
       "      <td>517.000000</td>\n",
       "      <td>517.000000</td>\n",
       "      <td>517.000000</td>\n",
       "      <td>517.000000</td>\n",
       "      <td>517.000000</td>\n",
       "    </tr>\n",
       "    <tr>\n",
       "      <th>mean</th>\n",
       "      <td>90.644681</td>\n",
       "      <td>110.872340</td>\n",
       "      <td>547.940039</td>\n",
       "      <td>9.021663</td>\n",
       "      <td>18.889168</td>\n",
       "      <td>44.288201</td>\n",
       "      <td>4.017602</td>\n",
       "      <td>0.021663</td>\n",
       "      <td>12.847292</td>\n",
       "      <td>0.164410</td>\n",
       "      <td>...</td>\n",
       "      <td>0.017408</td>\n",
       "      <td>0.038685</td>\n",
       "      <td>0.003868</td>\n",
       "      <td>0.061896</td>\n",
       "      <td>0.032882</td>\n",
       "      <td>0.104449</td>\n",
       "      <td>0.003868</td>\n",
       "      <td>0.001934</td>\n",
       "      <td>0.029014</td>\n",
       "      <td>0.332689</td>\n",
       "    </tr>\n",
       "    <tr>\n",
       "      <th>std</th>\n",
       "      <td>5.520111</td>\n",
       "      <td>64.046482</td>\n",
       "      <td>248.066192</td>\n",
       "      <td>4.559477</td>\n",
       "      <td>5.806625</td>\n",
       "      <td>16.317469</td>\n",
       "      <td>1.791653</td>\n",
       "      <td>0.295959</td>\n",
       "      <td>63.655818</td>\n",
       "      <td>0.371006</td>\n",
       "      <td>...</td>\n",
       "      <td>0.130913</td>\n",
       "      <td>0.193029</td>\n",
       "      <td>0.062137</td>\n",
       "      <td>0.241199</td>\n",
       "      <td>0.178500</td>\n",
       "      <td>0.306138</td>\n",
       "      <td>0.062137</td>\n",
       "      <td>0.043980</td>\n",
       "      <td>0.168007</td>\n",
       "      <td>0.471632</td>\n",
       "    </tr>\n",
       "    <tr>\n",
       "      <th>min</th>\n",
       "      <td>18.700000</td>\n",
       "      <td>1.100000</td>\n",
       "      <td>7.900000</td>\n",
       "      <td>0.000000</td>\n",
       "      <td>2.200000</td>\n",
       "      <td>15.000000</td>\n",
       "      <td>0.400000</td>\n",
       "      <td>0.000000</td>\n",
       "      <td>0.000000</td>\n",
       "      <td>0.000000</td>\n",
       "      <td>...</td>\n",
       "      <td>0.000000</td>\n",
       "      <td>0.000000</td>\n",
       "      <td>0.000000</td>\n",
       "      <td>0.000000</td>\n",
       "      <td>0.000000</td>\n",
       "      <td>0.000000</td>\n",
       "      <td>0.000000</td>\n",
       "      <td>0.000000</td>\n",
       "      <td>0.000000</td>\n",
       "      <td>0.000000</td>\n",
       "    </tr>\n",
       "    <tr>\n",
       "      <th>25%</th>\n",
       "      <td>90.200000</td>\n",
       "      <td>68.600000</td>\n",
       "      <td>437.700000</td>\n",
       "      <td>6.500000</td>\n",
       "      <td>15.500000</td>\n",
       "      <td>33.000000</td>\n",
       "      <td>2.700000</td>\n",
       "      <td>0.000000</td>\n",
       "      <td>0.000000</td>\n",
       "      <td>0.000000</td>\n",
       "      <td>...</td>\n",
       "      <td>0.000000</td>\n",
       "      <td>0.000000</td>\n",
       "      <td>0.000000</td>\n",
       "      <td>0.000000</td>\n",
       "      <td>0.000000</td>\n",
       "      <td>0.000000</td>\n",
       "      <td>0.000000</td>\n",
       "      <td>0.000000</td>\n",
       "      <td>0.000000</td>\n",
       "      <td>0.000000</td>\n",
       "    </tr>\n",
       "    <tr>\n",
       "      <th>50%</th>\n",
       "      <td>91.600000</td>\n",
       "      <td>108.300000</td>\n",
       "      <td>664.200000</td>\n",
       "      <td>8.400000</td>\n",
       "      <td>19.300000</td>\n",
       "      <td>42.000000</td>\n",
       "      <td>4.000000</td>\n",
       "      <td>0.000000</td>\n",
       "      <td>0.520000</td>\n",
       "      <td>0.000000</td>\n",
       "      <td>...</td>\n",
       "      <td>0.000000</td>\n",
       "      <td>0.000000</td>\n",
       "      <td>0.000000</td>\n",
       "      <td>0.000000</td>\n",
       "      <td>0.000000</td>\n",
       "      <td>0.000000</td>\n",
       "      <td>0.000000</td>\n",
       "      <td>0.000000</td>\n",
       "      <td>0.000000</td>\n",
       "      <td>0.000000</td>\n",
       "    </tr>\n",
       "    <tr>\n",
       "      <th>75%</th>\n",
       "      <td>92.900000</td>\n",
       "      <td>142.400000</td>\n",
       "      <td>713.900000</td>\n",
       "      <td>10.800000</td>\n",
       "      <td>22.800000</td>\n",
       "      <td>53.000000</td>\n",
       "      <td>4.900000</td>\n",
       "      <td>0.000000</td>\n",
       "      <td>6.570000</td>\n",
       "      <td>0.000000</td>\n",
       "      <td>...</td>\n",
       "      <td>0.000000</td>\n",
       "      <td>0.000000</td>\n",
       "      <td>0.000000</td>\n",
       "      <td>0.000000</td>\n",
       "      <td>0.000000</td>\n",
       "      <td>0.000000</td>\n",
       "      <td>0.000000</td>\n",
       "      <td>0.000000</td>\n",
       "      <td>0.000000</td>\n",
       "      <td>1.000000</td>\n",
       "    </tr>\n",
       "    <tr>\n",
       "      <th>max</th>\n",
       "      <td>96.200000</td>\n",
       "      <td>291.300000</td>\n",
       "      <td>860.600000</td>\n",
       "      <td>56.100000</td>\n",
       "      <td>33.300000</td>\n",
       "      <td>100.000000</td>\n",
       "      <td>9.400000</td>\n",
       "      <td>6.400000</td>\n",
       "      <td>1090.840000</td>\n",
       "      <td>1.000000</td>\n",
       "      <td>...</td>\n",
       "      <td>1.000000</td>\n",
       "      <td>1.000000</td>\n",
       "      <td>1.000000</td>\n",
       "      <td>1.000000</td>\n",
       "      <td>1.000000</td>\n",
       "      <td>1.000000</td>\n",
       "      <td>1.000000</td>\n",
       "      <td>1.000000</td>\n",
       "      <td>1.000000</td>\n",
       "      <td>1.000000</td>\n",
       "    </tr>\n",
       "  </tbody>\n",
       "</table>\n",
       "<p>8 rows × 28 columns</p>\n",
       "</div>"
      ],
      "text/plain": [
       "             FFMC         DMC          DC         ISI        temp          RH  \\\n",
       "count  517.000000  517.000000  517.000000  517.000000  517.000000  517.000000   \n",
       "mean    90.644681  110.872340  547.940039    9.021663   18.889168   44.288201   \n",
       "std      5.520111   64.046482  248.066192    4.559477    5.806625   16.317469   \n",
       "min     18.700000    1.100000    7.900000    0.000000    2.200000   15.000000   \n",
       "25%     90.200000   68.600000  437.700000    6.500000   15.500000   33.000000   \n",
       "50%     91.600000  108.300000  664.200000    8.400000   19.300000   42.000000   \n",
       "75%     92.900000  142.400000  713.900000   10.800000   22.800000   53.000000   \n",
       "max     96.200000  291.300000  860.600000   56.100000   33.300000  100.000000   \n",
       "\n",
       "             wind        rain         area      dayfri  ...    monthdec  \\\n",
       "count  517.000000  517.000000   517.000000  517.000000  ...  517.000000   \n",
       "mean     4.017602    0.021663    12.847292    0.164410  ...    0.017408   \n",
       "std      1.791653    0.295959    63.655818    0.371006  ...    0.130913   \n",
       "min      0.400000    0.000000     0.000000    0.000000  ...    0.000000   \n",
       "25%      2.700000    0.000000     0.000000    0.000000  ...    0.000000   \n",
       "50%      4.000000    0.000000     0.520000    0.000000  ...    0.000000   \n",
       "75%      4.900000    0.000000     6.570000    0.000000  ...    0.000000   \n",
       "max      9.400000    6.400000  1090.840000    1.000000  ...    1.000000   \n",
       "\n",
       "         monthfeb    monthjan    monthjul    monthjun    monthmar    monthmay  \\\n",
       "count  517.000000  517.000000  517.000000  517.000000  517.000000  517.000000   \n",
       "mean     0.038685    0.003868    0.061896    0.032882    0.104449    0.003868   \n",
       "std      0.193029    0.062137    0.241199    0.178500    0.306138    0.062137   \n",
       "min      0.000000    0.000000    0.000000    0.000000    0.000000    0.000000   \n",
       "25%      0.000000    0.000000    0.000000    0.000000    0.000000    0.000000   \n",
       "50%      0.000000    0.000000    0.000000    0.000000    0.000000    0.000000   \n",
       "75%      0.000000    0.000000    0.000000    0.000000    0.000000    0.000000   \n",
       "max      1.000000    1.000000    1.000000    1.000000    1.000000    1.000000   \n",
       "\n",
       "         monthnov    monthoct    monthsep  \n",
       "count  517.000000  517.000000  517.000000  \n",
       "mean     0.001934    0.029014    0.332689  \n",
       "std      0.043980    0.168007    0.471632  \n",
       "min      0.000000    0.000000    0.000000  \n",
       "25%      0.000000    0.000000    0.000000  \n",
       "50%      0.000000    0.000000    0.000000  \n",
       "75%      0.000000    0.000000    1.000000  \n",
       "max      1.000000    1.000000    1.000000  \n",
       "\n",
       "[8 rows x 28 columns]"
      ]
     },
     "execution_count": 4,
     "metadata": {},
     "output_type": "execute_result"
    }
   ],
   "source": [
    "data.describe()"
   ]
  },
  {
   "cell_type": "markdown",
   "id": "42c6f38e",
   "metadata": {},
   "source": [
    "## `Scaling Numerical Data`"
   ]
  },
  {
   "cell_type": "code",
   "execution_count": 5,
   "id": "a378766a",
   "metadata": {},
   "outputs": [
    {
     "data": {
      "text/plain": [
       "array([[-1.18297065e+00,  4.86455841e-01, -5.11229305e-01, ...,\n",
       "        -4.40652649e-02,  5.77927331e+00, -7.07106781e-01],\n",
       "       [-1.05315680e+00,  5.58444994e-01, -5.11229305e-01, ...,\n",
       "        -4.40652649e-02,  5.77927331e+00, -7.07106781e-01],\n",
       "       [-1.21581511e+00, -1.90617243e+00, -6.42279933e-03, ...,\n",
       "        -4.40652649e-02, -1.73032135e-01, -7.07106781e-01],\n",
       "       ...,\n",
       "       [-8.49833910e-01,  4.72300670e-01, -1.56473854e+00, ...,\n",
       "        -4.40652649e-02, -1.73032135e-01, -7.07106781e-01],\n",
       "       [ 5.46837944e-01,  2.66444046e-01,  4.98383707e-01, ...,\n",
       "        -4.40652649e-02, -1.73032135e-01, -7.07106781e-01],\n",
       "       [-1.68971385e+00, -1.78807786e+00, -1.74032341e+00, ...,\n",
       "         2.26936114e+01, -1.73032135e-01, -7.07106781e-01]])"
      ]
     },
     "execution_count": 5,
     "metadata": {},
     "output_type": "execute_result"
    }
   ],
   "source": [
    "df = data.iloc[1:,3:30]\n",
    "sc = StandardScaler()\n",
    "data_norm = sc.fit_transform(df)\n",
    "data_norm"
   ]
  },
  {
   "cell_type": "markdown",
   "id": "85cdbd47",
   "metadata": {},
   "source": [
    "# `Visualization`"
   ]
  },
  {
   "cell_type": "markdown",
   "id": "2c2825f7",
   "metadata": {},
   "source": [
    "## `Bar chart for RH`"
   ]
  },
  {
   "cell_type": "code",
   "execution_count": 6,
   "id": "8739cf72",
   "metadata": {},
   "outputs": [
    {
     "data": {
      "text/plain": [
       "(array([ 21.,  96., 130., 104.,  63.,  40.,  31.,  20.,   7.,   5.]),\n",
       " array([ 15. ,  23.5,  32. ,  40.5,  49. ,  57.5,  66. ,  74.5,  83. ,\n",
       "         91.5, 100. ]),\n",
       " <BarContainer object of 10 artists>)"
      ]
     },
     "execution_count": 6,
     "metadata": {},
     "output_type": "execute_result"
    },
    {
     "data": {
      "image/png": "[encoded data removed]",
      "text/plain": [
       "<Figure size 864x576 with 1 Axes>"
      ]
     },
     "metadata": {
      "needs_background": "light"
     },
     "output_type": "display_data"
    }
   ],
   "source": [
    "plt.figure(figsize=(12,8))\n",
    "plt.hist(data['RH'])"
   ]
  },
  {
   "cell_type": "markdown",
   "id": "eee651ee",
   "metadata": {},
   "source": [
    "## `Bar Chart For TEMP`"
   ]
  },
  {
   "cell_type": "code",
   "execution_count": 7,
   "id": "05f36b5d",
   "metadata": {
    "scrolled": false
   },
   "outputs": [
    {
     "data": {
      "text/plain": [
       "(array([ 18.,  11.,  31.,  47.,  92., 127.,  99.,  55.,  24.,  13.]),\n",
       " array([ 2.2 ,  5.31,  8.42, 11.53, 14.64, 17.75, 20.86, 23.97, 27.08,\n",
       "        30.19, 33.3 ]),\n",
       " <BarContainer object of 10 artists>)"
      ]
     },
     "execution_count": 7,
     "metadata": {},
     "output_type": "execute_result"
    },
    {
     "data": {
      "image/png": "[encoded data removed]",
      "text/plain": [
       "<Figure size 864x576 with 1 Axes>"
      ]
     },
     "metadata": {
      "needs_background": "light"
     },
     "output_type": "display_data"
    }
   ],
   "source": [
    "plt.figure(figsize=(12,8))\n",
    "plt.hist(data['temp'])"
   ]
  },
  {
   "cell_type": "markdown",
   "id": "70ce8790",
   "metadata": {},
   "source": [
    "## `Boxplor for FFMC`"
   ]
  },
  {
   "cell_type": "code",
   "execution_count": 8,
   "id": "30d33013",
   "metadata": {},
   "outputs": [
    {
     "data": {
      "text/plain": [
       "<AxesSubplot:>"
      ]
     },
     "execution_count": 8,
     "metadata": {},
     "output_type": "execute_result"
    },
    {
     "data": {
      "image/png": "[encoded data removed]",
      "text/plain": [
       "<Figure size 864x576 with 1 Axes>"
      ]
     },
     "metadata": {
      "needs_background": "light"
     },
     "output_type": "display_data"
    }
   ],
   "source": [
    "plt.figure(figsize=(12,8))\n",
    "data.boxplot(column=['FFMC'])"
   ]
  },
  {
   "cell_type": "markdown",
   "id": "00f17223",
   "metadata": {},
   "source": [
    "## `Boxplot for WIND`"
   ]
  },
  {
   "cell_type": "code",
   "execution_count": 9,
   "id": "de7d18d1",
   "metadata": {},
   "outputs": [
    {
     "data": {
      "text/plain": [
       "<AxesSubplot:>"
      ]
     },
     "execution_count": 9,
     "metadata": {},
     "output_type": "execute_result"
    },
    {
     "data": {
      "image/png": "[encoded data removed]",
      "text/plain": [
       "<Figure size 864x576 with 1 Axes>"
      ]
     },
     "metadata": {
      "needs_background": "light"
     },
     "output_type": "display_data"
    }
   ],
   "source": [
    "plt.figure(figsize=(12,8))\n",
    "data.boxplot(column=['wind'])"
   ]
  },
  {
   "cell_type": "markdown",
   "id": "75a994b6",
   "metadata": {},
   "source": [
    "## `Boxen Plot`"
   ]
  },
  {
   "cell_type": "code",
   "execution_count": 10,
   "id": "108c0099",
   "metadata": {},
   "outputs": [
    {
     "data": {
      "text/plain": [
       "<function matplotlib.pyplot.show(close=None, block=None)>"
      ]
     },
     "execution_count": 10,
     "metadata": {},
     "output_type": "execute_result"
    },
    {
     "data": {
      "image/png": "[encoded data removed]",
      "text/plain": [
       "<Figure size 864x576 with 1 Axes>"
      ]
     },
     "metadata": {
      "needs_background": "light"
     },
     "output_type": "display_data"
    }
   ],
   "source": [
    "plt.figure(figsize=(12,8))\n",
    "sns.boxenplot(x= 'size_category',y='temp',hue=\"size_category\",data=data,width=1)\n",
    "plt.show"
   ]
  },
  {
   "cell_type": "markdown",
   "id": "761ebb4d",
   "metadata": {},
   "source": [
    "## `Reducing Columns By Using PCA`"
   ]
  },
  {
   "cell_type": "code",
   "execution_count": 11,
   "id": "1c92afda",
   "metadata": {},
   "outputs": [
    {
     "data": {
      "text/plain": [
       "array([[ 4.20321083e-01, -1.05650975e+00, -1.26683712e+00, ...,\n",
       "         3.56334657e-02,  1.07143377e-14,  2.11172212e-15],\n",
       "       [ 7.33773615e-01, -1.43611214e+00, -1.41363816e+00, ...,\n",
       "         2.34333675e-02, -2.17939748e-15, -1.20025433e-16],\n",
       "       [ 3.68364857e+00,  8.37712884e-01,  1.53480089e+00, ...,\n",
       "        -8.71645892e-02,  2.20434968e-15,  2.32543387e-15],\n",
       "       ...,\n",
       "       [ 2.70210552e-01,  1.15215831e+00,  2.08147562e+00, ...,\n",
       "        -3.07500267e-01,  4.35456817e-16, -1.49830188e-16],\n",
       "       [-1.45826748e+00,  1.11146241e+00, -3.88276931e-01, ...,\n",
       "         4.98704588e-02,  3.00169004e-17, -9.93850586e-17],\n",
       "       [ 3.49629480e+00,  4.98978613e-01, -1.52949427e+00, ...,\n",
       "        -2.50626368e-02,  9.83117155e-17, -8.41794074e-17]])"
      ]
     },
     "execution_count": 11,
     "metadata": {},
     "output_type": "execute_result"
    }
   ],
   "source": [
    "pca= PCA(n_components=27)\n",
    "pca_values =pca.fit_transform(data_norm)\n",
    "pca_values"
   ]
  },
  {
   "cell_type": "code",
   "execution_count": 12,
   "id": "07f7f138",
   "metadata": {},
   "outputs": [
    {
     "data": {
      "text/plain": [
       "array([1.27656336e-01, 7.00515513e-02, 6.03130671e-02, 5.34747246e-02,\n",
       "       4.91455886e-02, 4.85285589e-02, 4.53835810e-02, 4.42952080e-02,\n",
       "       4.24348274e-02, 4.10905573e-02, 4.04570937e-02, 3.85483248e-02,\n",
       "       3.77701914e-02, 3.76330333e-02, 3.69228835e-02, 3.61584939e-02,\n",
       "       3.48174596e-02, 3.32881681e-02, 3.15371395e-02, 3.04821426e-02,\n",
       "       2.42869127e-02, 1.96236782e-02, 1.04810256e-02, 4.77508341e-03,\n",
       "       8.44369649e-04, 2.51757731e-32, 4.45554266e-33])"
      ]
     },
     "execution_count": 12,
     "metadata": {},
     "output_type": "execute_result"
    }
   ],
   "source": [
    "var = pca.explained_variance_ratio_\n",
    "var"
   ]
  },
  {
   "cell_type": "code",
   "execution_count": 13,
   "id": "a5b29a1b",
   "metadata": {},
   "outputs": [
    {
     "data": {
      "text/plain": [
       "array([ 12.77,  19.78,  25.81,  31.16,  36.07,  40.92,  45.46,  49.89,\n",
       "        54.13,  58.24,  62.29,  66.14,  69.92,  73.68,  77.37,  80.99,\n",
       "        84.47,  87.8 ,  90.95,  94.  ,  96.43,  98.39,  99.44,  99.92,\n",
       "       100.  , 100.  , 100.  ])"
      ]
     },
     "execution_count": 13,
     "metadata": {},
     "output_type": "execute_result"
    }
   ],
   "source": [
    "var1 = np.cumsum(np.round(var,decimals=4)*100)\n",
    "var1"
   ]
  },
  {
   "cell_type": "code",
   "execution_count": 14,
   "id": "aafd8e73",
   "metadata": {},
   "outputs": [
    {
     "data": {
      "text/plain": [
       "[<matplotlib.lines.Line2D at 0x247270731c0>]"
      ]
     },
     "execution_count": 14,
     "metadata": {},
     "output_type": "execute_result"
    },
    {
     "data": {
      "image/png": "[encoded data removed]",
      "text/plain": [
       "<Figure size 864x576 with 1 Axes>"
      ]
     },
     "metadata": {
      "needs_background": "light"
     },
     "output_type": "display_data"
    }
   ],
   "source": [
    "plt.figure(figsize=(12,8))\n",
    "plt.plot(var1,color='green')"
   ]
  },
  {
   "cell_type": "markdown",
   "id": "bb2bf8ab",
   "metadata": {},
   "source": [
    "## `22 pca's out of 28 for further process`"
   ]
  },
  {
   "cell_type": "code",
   "execution_count": 15,
   "id": "3b16c12b",
   "metadata": {},
   "outputs": [
    {
     "data": {
      "text/plain": [
       "(          pc1       pc2       pc3       pc4       pc5       pc6       pc7  \\\n",
       " 0    0.420321 -1.056510 -1.266837  0.836158  3.041443  0.794468 -2.804942   \n",
       " 1    0.733774 -1.436112 -1.413638  2.244203  1.502521  0.275882 -1.515934   \n",
       " 2    3.683649  0.837713  1.534801 -1.117375 -1.868661  1.141984 -0.125820   \n",
       " 3    3.061055  0.967917  1.605533  1.115412 -0.776782 -0.557732 -0.716327   \n",
       " 4   -0.795240  1.885239  0.087313  0.095776 -0.189321 -1.092051 -0.541247   \n",
       " ..        ...       ...       ...       ...       ...       ...       ...   \n",
       " 512  0.126135  0.986634  1.961826  0.801641  0.339803 -0.938879 -0.010546   \n",
       " 513  0.270211  1.152158  2.081476  0.514962  0.320586 -0.996262 -0.114781   \n",
       " 514 -1.458267  1.111462 -0.388277  1.235825 -0.182139  0.724820  0.863925   \n",
       " 515  3.496295  0.498979 -1.529494 -1.067717  6.419201  5.648577 -1.972947   \n",
       " 516       NaN       NaN       NaN       NaN       NaN       NaN       NaN   \n",
       " \n",
       "           pc8       pc9      pc10  ...      pc14       pc15      pc16  \\\n",
       " 0    0.137209 -0.606341  1.973041  ...  1.032122  -0.148961 -2.454945   \n",
       " 1   -1.987724 -0.128758  2.244877  ...  1.097687  -0.264983 -2.615289   \n",
       " 2   -0.155613 -0.696011 -1.163748  ... -0.725685   0.215659 -0.104371   \n",
       " 3    0.619551  0.703267 -1.385827  ... -0.682085  -0.029113  0.618545   \n",
       " 4    0.449050  1.316892  0.125018  ...  0.039601  -0.431713  0.189971   \n",
       " ..        ...       ...       ...  ...       ...        ...       ...   \n",
       " 512  0.208232  1.309323  0.260168  ...  0.107711  -0.147328  0.474593   \n",
       " 513  0.212476  1.261223  0.218525  ... -0.021740  -0.374757  0.392150   \n",
       " 514 -1.333405  0.079286  0.205764  ...  0.234621  -0.161917 -0.084193   \n",
       " 515  7.537353 -0.343891  4.469656  ...  7.354176 -10.086411  7.184935   \n",
       " 516       NaN       NaN       NaN  ...       NaN        NaN       NaN   \n",
       " \n",
       "          pc17      pc18      pc19      pc20      pc21      pc22  size_category  \n",
       " 0    0.528817  0.910198 -1.099577 -1.060654 -1.052321  0.577188              0  \n",
       " 1   -0.624853  0.016000  0.526389 -1.248072 -0.405641  0.738955              0  \n",
       " 2    0.002057  0.782251  0.722199 -1.664619 -1.114481  1.328748              0  \n",
       " 3    0.983859 -0.143117  0.367243 -1.825298 -1.076292  1.992516              0  \n",
       " 4    0.276656 -0.135725 -0.037614  0.942117  0.855999  0.245767              0  \n",
       " ..        ...       ...       ...       ...       ...       ...            ...  \n",
       " 512  0.488489  0.389972  0.409522 -0.224651 -0.585494 -1.221207              1  \n",
       " 513  0.349775 -0.083431  0.388818 -0.188914 -0.306552 -1.548209              1  \n",
       " 514 -1.032826 -0.859513 -0.059299  0.412847  0.084791 -0.070708              1  \n",
       " 515 -7.418555  2.174417  8.119303 -1.664281  1.886972  0.910919              0  \n",
       " 516       NaN       NaN       NaN       NaN       NaN       NaN              0  \n",
       " \n",
       " [517 rows x 23 columns],)"
      ]
     },
     "execution_count": 15,
     "metadata": {},
     "output_type": "execute_result"
    }
   ],
   "source": [
    "final_df = pd.concat([pd.DataFrame(pca_values[:,0:22],columns=['pc1','pc2','pc3','pc4','pc5','pc6','pc7','pc8','pc9','pc10',\n",
    "'pc11','pc12','pc13','pc14','pc15','pc16','pc17','pc18','pc19','pc20','pc21','pc22']),data[['size_category']]],axis=1)\n",
    "final_df.size_category.replace(('large','small'),(1,0), inplace=True)\n",
    "final_df,"
   ]
  },
  {
   "cell_type": "markdown",
   "id": "0749ef4a",
   "metadata": {},
   "source": [
    "## `Data into X & Y`"
   ]
  },
  {
   "cell_type": "code",
   "execution_count": 16,
   "id": "0e980b33",
   "metadata": {},
   "outputs": [],
   "source": [
    "array = final_df.values\n",
    "X = array[:,0:22]\n",
    "Y = array[:,22]"
   ]
  },
  {
   "cell_type": "markdown",
   "id": "f497331d",
   "metadata": {},
   "source": [
    "## `Creating Model`"
   ]
  },
  {
   "cell_type": "code",
   "execution_count": 17,
   "id": "b179e45b",
   "metadata": {},
   "outputs": [],
   "source": [
    "model = tf.keras.models.Sequential()\n",
    "model.add( tf.keras.layers.Dense(40,input_dim=22,activation='relu'))\n",
    "model.add( tf.keras.layers.Dense(11,activation='relu'))\n",
    "model.add( tf.keras.layers.Dense(1,activation='sigmoid'))"
   ]
  },
  {
   "cell_type": "markdown",
   "id": "85e38a64",
   "metadata": {},
   "source": [
    "## `Compile Model`"
   ]
  },
  {
   "cell_type": "code",
   "execution_count": 18,
   "id": "523a4fa9",
   "metadata": {},
   "outputs": [],
   "source": [
    "model.compile(loss='binary_crossentropy',optimizer='adam',metrics=['accuracy'])"
   ]
  },
  {
   "cell_type": "markdown",
   "id": "7a615065",
   "metadata": {},
   "source": [
    "## `Model Summary`"
   ]
  },
  {
   "cell_type": "code",
   "execution_count": 19,
   "id": "413f00fd",
   "metadata": {},
   "outputs": [
    {
     "name": "stdout",
     "output_type": "stream",
     "text": [
      "Model: \"sequential\"\n",
      "_________________________________________________________________\n",
      " Layer (type)                Output Shape              Param #   \n",
      "=================================================================\n",
      " dense (Dense)               (None, 40)                920       \n",
      "                                                                 \n",
      " dense_1 (Dense)             (None, 11)                451       \n",
      "                                                                 \n",
      " dense_2 (Dense)             (None, 1)                 12        \n",
      "                                                                 \n",
      "=================================================================\n",
      "Total params: 1,383\n",
      "Trainable params: 1,383\n",
      "Non-trainable params: 0\n",
      "_________________________________________________________________\n"
     ]
    }
   ],
   "source": [
    "model.summary()"
   ]
  },
  {
   "cell_type": "markdown",
   "id": "16304ccb",
   "metadata": {},
   "source": [
    "## `Fit Model At 30% Of Test Data`"
   ]
  },
  {
   "cell_type": "code",
   "execution_count": 20,
   "id": "0d3c8859",
   "metadata": {},
   "outputs": [
    {
     "name": "stdout",
     "output_type": "stream",
     "text": [
      "Epoch 1/100\n",
      "37/37 [==============================] - 1s 8ms/step - loss: 0.6063 - accuracy: 0.7562 - val_loss: nan - val_accuracy: 0.6731\n",
      "Epoch 2/100\n",
      "37/37 [==============================] - 0s 3ms/step - loss: 0.5595 - accuracy: 0.7562 - val_loss: nan - val_accuracy: 0.6731\n",
      "Epoch 3/100\n",
      "37/37 [==============================] - 0s 3ms/step - loss: 0.5332 - accuracy: 0.7562 - val_loss: nan - val_accuracy: 0.6731\n",
      "Epoch 4/100\n",
      "37/37 [==============================] - 0s 4ms/step - loss: 0.5162 - accuracy: 0.7562 - val_loss: nan - val_accuracy: 0.6731\n",
      "Epoch 5/100\n",
      "37/37 [==============================] - 0s 4ms/step - loss: 0.5057 - accuracy: 0.7562 - val_loss: nan - val_accuracy: 0.6731\n",
      "Epoch 6/100\n",
      "37/37 [==============================] - 0s 3ms/step - loss: 0.4948 - accuracy: 0.7562 - val_loss: nan - val_accuracy: 0.6731\n",
      "Epoch 7/100\n",
      "37/37 [==============================] - 0s 3ms/step - loss: 0.4893 - accuracy: 0.7562 - val_loss: nan - val_accuracy: 0.6731\n",
      "Epoch 8/100\n",
      "37/37 [==============================] - 0s 3ms/step - loss: 0.4794 - accuracy: 0.7562 - val_loss: nan - val_accuracy: 0.6731\n",
      "Epoch 9/100\n",
      "37/37 [==============================] - 0s 3ms/step - loss: 0.4728 - accuracy: 0.7562 - val_loss: nan - val_accuracy: 0.6731\n",
      "Epoch 10/100\n",
      "37/37 [==============================] - 0s 3ms/step - loss: 0.4651 - accuracy: 0.7535 - val_loss: nan - val_accuracy: 0.6731\n",
      "Epoch 11/100\n",
      "37/37 [==============================] - 0s 3ms/step - loss: 0.4582 - accuracy: 0.7618 - val_loss: nan - val_accuracy: 0.6731\n",
      "Epoch 12/100\n",
      "37/37 [==============================] - 0s 3ms/step - loss: 0.4534 - accuracy: 0.7562 - val_loss: nan - val_accuracy: 0.6731\n",
      "Epoch 13/100\n",
      "37/37 [==============================] - 0s 4ms/step - loss: 0.4487 - accuracy: 0.7729 - val_loss: nan - val_accuracy: 0.6731\n",
      "Epoch 14/100\n",
      "37/37 [==============================] - 0s 4ms/step - loss: 0.4472 - accuracy: 0.7701 - val_loss: nan - val_accuracy: 0.6731\n",
      "Epoch 15/100\n",
      "37/37 [==============================] - 0s 3ms/step - loss: 0.4378 - accuracy: 0.7756 - val_loss: nan - val_accuracy: 0.6731\n",
      "Epoch 16/100\n",
      "37/37 [==============================] - 0s 4ms/step - loss: 0.4316 - accuracy: 0.7839 - val_loss: nan - val_accuracy: 0.6731\n",
      "Epoch 17/100\n",
      "37/37 [==============================] - 0s 4ms/step - loss: 0.4286 - accuracy: 0.7839 - val_loss: nan - val_accuracy: 0.6731\n",
      "Epoch 18/100\n",
      "37/37 [==============================] - 0s 3ms/step - loss: 0.4202 - accuracy: 0.7922 - val_loss: nan - val_accuracy: 0.6667\n",
      "Epoch 19/100\n",
      "37/37 [==============================] - 0s 2ms/step - loss: 0.4157 - accuracy: 0.7978 - val_loss: nan - val_accuracy: 0.6667\n",
      "Epoch 20/100\n",
      "37/37 [==============================] - 0s 3ms/step - loss: 0.4087 - accuracy: 0.7978 - val_loss: nan - val_accuracy: 0.6667\n",
      "Epoch 21/100\n",
      "37/37 [==============================] - 0s 3ms/step - loss: 0.4032 - accuracy: 0.8006 - val_loss: nan - val_accuracy: 0.6667\n",
      "Epoch 22/100\n",
      "37/37 [==============================] - 0s 4ms/step - loss: 0.3984 - accuracy: 0.8006 - val_loss: nan - val_accuracy: 0.6603\n",
      "Epoch 23/100\n",
      "37/37 [==============================] - 0s 3ms/step - loss: 0.3926 - accuracy: 0.8033 - val_loss: nan - val_accuracy: 0.6667\n",
      "Epoch 24/100\n",
      "37/37 [==============================] - 0s 3ms/step - loss: 0.3928 - accuracy: 0.8144 - val_loss: nan - val_accuracy: 0.6667\n",
      "Epoch 25/100\n",
      "37/37 [==============================] - 0s 3ms/step - loss: 0.3860 - accuracy: 0.8116 - val_loss: nan - val_accuracy: 0.6667\n",
      "Epoch 26/100\n",
      "37/37 [==============================] - 0s 3ms/step - loss: 0.3821 - accuracy: 0.8172 - val_loss: nan - val_accuracy: 0.6667\n",
      "Epoch 27/100\n",
      "37/37 [==============================] - 0s 3ms/step - loss: 0.3790 - accuracy: 0.8227 - val_loss: nan - val_accuracy: 0.6667\n",
      "Epoch 28/100\n",
      "37/37 [==============================] - 0s 3ms/step - loss: 0.3687 - accuracy: 0.8199 - val_loss: nan - val_accuracy: 0.6731\n",
      "Epoch 29/100\n",
      "37/37 [==============================] - 0s 2ms/step - loss: 0.3627 - accuracy: 0.8283 - val_loss: nan - val_accuracy: 0.6667\n",
      "Epoch 30/100\n",
      "37/37 [==============================] - 0s 3ms/step - loss: 0.3568 - accuracy: 0.8255 - val_loss: nan - val_accuracy: 0.6667\n",
      "Epoch 31/100\n",
      "37/37 [==============================] - 0s 4ms/step - loss: 0.3519 - accuracy: 0.8310 - val_loss: nan - val_accuracy: 0.6667\n",
      "Epoch 32/100\n",
      "37/37 [==============================] - 0s 3ms/step - loss: 0.3466 - accuracy: 0.8338 - val_loss: nan - val_accuracy: 0.6667\n",
      "Epoch 33/100\n",
      "37/37 [==============================] - 0s 3ms/step - loss: 0.3437 - accuracy: 0.8449 - val_loss: nan - val_accuracy: 0.6667\n",
      "Epoch 34/100\n",
      "37/37 [==============================] - 0s 4ms/step - loss: 0.3455 - accuracy: 0.8449 - val_loss: nan - val_accuracy: 0.6538\n",
      "Epoch 35/100\n",
      "37/37 [==============================] - 0s 4ms/step - loss: 0.3358 - accuracy: 0.8560 - val_loss: nan - val_accuracy: 0.6667\n",
      "Epoch 36/100\n",
      "37/37 [==============================] - 0s 3ms/step - loss: 0.3383 - accuracy: 0.8532 - val_loss: nan - val_accuracy: 0.6538\n",
      "Epoch 37/100\n",
      "37/37 [==============================] - 0s 3ms/step - loss: 0.3336 - accuracy: 0.8449 - val_loss: nan - val_accuracy: 0.6474\n",
      "Epoch 38/100\n",
      "37/37 [==============================] - 0s 4ms/step - loss: 0.3325 - accuracy: 0.8726 - val_loss: nan - val_accuracy: 0.6538\n",
      "Epoch 39/100\n",
      "37/37 [==============================] - 0s 4ms/step - loss: 0.3194 - accuracy: 0.8615 - val_loss: nan - val_accuracy: 0.6538\n",
      "Epoch 40/100\n",
      "37/37 [==============================] - 0s 3ms/step - loss: 0.3143 - accuracy: 0.8615 - val_loss: nan - val_accuracy: 0.6538\n",
      "Epoch 41/100\n",
      "37/37 [==============================] - 0s 3ms/step - loss: 0.3096 - accuracy: 0.8753 - val_loss: nan - val_accuracy: 0.6410\n",
      "Epoch 42/100\n",
      "37/37 [==============================] - 0s 3ms/step - loss: 0.3058 - accuracy: 0.8753 - val_loss: nan - val_accuracy: 0.6410\n",
      "Epoch 43/100\n",
      "37/37 [==============================] - 0s 2ms/step - loss: 0.3012 - accuracy: 0.8753 - val_loss: nan - val_accuracy: 0.6410\n",
      "Epoch 44/100\n",
      "37/37 [==============================] - 0s 3ms/step - loss: 0.3037 - accuracy: 0.8781 - val_loss: nan - val_accuracy: 0.6346\n",
      "Epoch 45/100\n",
      "37/37 [==============================] - 0s 3ms/step - loss: 0.2979 - accuracy: 0.8892 - val_loss: nan - val_accuracy: 0.6410\n",
      "Epoch 46/100\n",
      "37/37 [==============================] - 0s 3ms/step - loss: 0.2921 - accuracy: 0.8864 - val_loss: nan - val_accuracy: 0.6410\n",
      "Epoch 47/100\n",
      "37/37 [==============================] - 0s 3ms/step - loss: 0.2859 - accuracy: 0.8975 - val_loss: nan - val_accuracy: 0.6474\n",
      "Epoch 48/100\n",
      "37/37 [==============================] - 0s 3ms/step - loss: 0.2810 - accuracy: 0.8920 - val_loss: nan - val_accuracy: 0.6474\n",
      "Epoch 49/100\n",
      "37/37 [==============================] - 0s 3ms/step - loss: 0.2764 - accuracy: 0.9003 - val_loss: nan - val_accuracy: 0.6474\n",
      "Epoch 50/100\n",
      "37/37 [==============================] - 0s 4ms/step - loss: 0.2720 - accuracy: 0.9003 - val_loss: nan - val_accuracy: 0.6410\n",
      "Epoch 51/100\n",
      "37/37 [==============================] - 0s 3ms/step - loss: 0.2647 - accuracy: 0.9003 - val_loss: nan - val_accuracy: 0.6282\n",
      "Epoch 52/100\n",
      "37/37 [==============================] - 0s 3ms/step - loss: 0.2597 - accuracy: 0.9141 - val_loss: nan - val_accuracy: 0.6218\n",
      "Epoch 53/100\n",
      "37/37 [==============================] - 0s 3ms/step - loss: 0.2555 - accuracy: 0.9086 - val_loss: nan - val_accuracy: 0.6218\n",
      "Epoch 54/100\n",
      "37/37 [==============================] - 0s 4ms/step - loss: 0.2466 - accuracy: 0.9086 - val_loss: nan - val_accuracy: 0.6090\n",
      "Epoch 55/100\n",
      "37/37 [==============================] - 0s 4ms/step - loss: 0.2411 - accuracy: 0.9141 - val_loss: nan - val_accuracy: 0.6154\n",
      "Epoch 56/100\n",
      "37/37 [==============================] - 0s 3ms/step - loss: 0.2328 - accuracy: 0.9197 - val_loss: nan - val_accuracy: 0.5962\n",
      "Epoch 57/100\n",
      "37/37 [==============================] - 0s 3ms/step - loss: 0.2280 - accuracy: 0.9224 - val_loss: nan - val_accuracy: 0.6026\n",
      "Epoch 58/100\n",
      "37/37 [==============================] - 0s 3ms/step - loss: 0.2275 - accuracy: 0.9280 - val_loss: nan - val_accuracy: 0.5962\n",
      "Epoch 59/100\n",
      "37/37 [==============================] - 0s 3ms/step - loss: 0.2178 - accuracy: 0.9224 - val_loss: nan - val_accuracy: 0.5897\n",
      "Epoch 60/100\n",
      "37/37 [==============================] - 0s 3ms/step - loss: 0.2161 - accuracy: 0.9252 - val_loss: nan - val_accuracy: 0.5897\n",
      "Epoch 61/100\n",
      "37/37 [==============================] - 0s 4ms/step - loss: 0.2149 - accuracy: 0.9280 - val_loss: nan - val_accuracy: 0.6026\n",
      "Epoch 62/100\n",
      "37/37 [==============================] - 0s 3ms/step - loss: 0.2101 - accuracy: 0.9307 - val_loss: nan - val_accuracy: 0.6026\n",
      "Epoch 63/100\n",
      "37/37 [==============================] - 0s 3ms/step - loss: 0.2033 - accuracy: 0.9252 - val_loss: nan - val_accuracy: 0.5962\n",
      "Epoch 64/100\n",
      "37/37 [==============================] - 0s 4ms/step - loss: 0.2046 - accuracy: 0.9224 - val_loss: nan - val_accuracy: 0.5833\n",
      "Epoch 65/100\n",
      "37/37 [==============================] - 0s 4ms/step - loss: 0.1992 - accuracy: 0.9335 - val_loss: nan - val_accuracy: 0.6090\n",
      "Epoch 66/100\n",
      "37/37 [==============================] - 0s 3ms/step - loss: 0.2230 - accuracy: 0.9169 - val_loss: nan - val_accuracy: 0.5962\n",
      "Epoch 67/100\n",
      "37/37 [==============================] - 0s 3ms/step - loss: 0.1967 - accuracy: 0.9307 - val_loss: nan - val_accuracy: 0.5962\n",
      "Epoch 68/100\n",
      "37/37 [==============================] - 0s 4ms/step - loss: 0.1950 - accuracy: 0.9280 - val_loss: nan - val_accuracy: 0.5897\n",
      "Epoch 69/100\n",
      "37/37 [==============================] - 0s 3ms/step - loss: 0.1907 - accuracy: 0.9418 - val_loss: nan - val_accuracy: 0.6026\n",
      "Epoch 70/100\n",
      "37/37 [==============================] - 0s 3ms/step - loss: 0.1850 - accuracy: 0.9335 - val_loss: nan - val_accuracy: 0.5833\n",
      "Epoch 71/100\n",
      "37/37 [==============================] - 0s 2ms/step - loss: 0.1802 - accuracy: 0.9391 - val_loss: nan - val_accuracy: 0.6026\n",
      "Epoch 72/100\n",
      "37/37 [==============================] - 0s 3ms/step - loss: 0.1806 - accuracy: 0.9307 - val_loss: nan - val_accuracy: 0.5833\n",
      "Epoch 73/100\n",
      "37/37 [==============================] - 0s 3ms/step - loss: 0.1767 - accuracy: 0.9446 - val_loss: nan - val_accuracy: 0.6090\n",
      "Epoch 74/100\n",
      "37/37 [==============================] - 0s 3ms/step - loss: 0.1766 - accuracy: 0.9363 - val_loss: nan - val_accuracy: 0.5833\n",
      "Epoch 75/100\n",
      "37/37 [==============================] - 0s 2ms/step - loss: 0.1719 - accuracy: 0.9418 - val_loss: nan - val_accuracy: 0.6090\n",
      "Epoch 76/100\n",
      "37/37 [==============================] - 0s 2ms/step - loss: 0.1735 - accuracy: 0.9418 - val_loss: nan - val_accuracy: 0.5769\n",
      "Epoch 77/100\n",
      "37/37 [==============================] - 0s 3ms/step - loss: 0.1669 - accuracy: 0.9501 - val_loss: nan - val_accuracy: 0.6090\n",
      "Epoch 78/100\n",
      "37/37 [==============================] - 0s 3ms/step - loss: 0.1669 - accuracy: 0.9446 - val_loss: nan - val_accuracy: 0.6090\n",
      "Epoch 79/100\n",
      "37/37 [==============================] - 0s 3ms/step - loss: 0.1671 - accuracy: 0.9391 - val_loss: nan - val_accuracy: 0.5962\n",
      "Epoch 80/100\n",
      "37/37 [==============================] - 0s 2ms/step - loss: 0.1639 - accuracy: 0.9501 - val_loss: nan - val_accuracy: 0.6090\n",
      "Epoch 81/100\n",
      "37/37 [==============================] - 0s 2ms/step - loss: 0.1617 - accuracy: 0.9446 - val_loss: nan - val_accuracy: 0.5962\n",
      "Epoch 82/100\n",
      "37/37 [==============================] - 0s 3ms/step - loss: 0.1604 - accuracy: 0.9446 - val_loss: nan - val_accuracy: 0.5897\n",
      "Epoch 83/100\n",
      "37/37 [==============================] - 0s 4ms/step - loss: 0.1607 - accuracy: 0.9501 - val_loss: nan - val_accuracy: 0.6090\n",
      "Epoch 84/100\n",
      "37/37 [==============================] - 0s 3ms/step - loss: 0.1666 - accuracy: 0.9501 - val_loss: nan - val_accuracy: 0.5897\n",
      "Epoch 85/100\n",
      "37/37 [==============================] - 0s 3ms/step - loss: 0.1633 - accuracy: 0.9501 - val_loss: nan - val_accuracy: 0.6026\n",
      "Epoch 86/100\n",
      "37/37 [==============================] - 0s 4ms/step - loss: 0.1639 - accuracy: 0.9446 - val_loss: nan - val_accuracy: 0.6026\n",
      "Epoch 87/100\n",
      "37/37 [==============================] - 0s 4ms/step - loss: 0.1675 - accuracy: 0.9418 - val_loss: nan - val_accuracy: 0.5962\n",
      "Epoch 88/100\n",
      "37/37 [==============================] - 0s 3ms/step - loss: 0.1568 - accuracy: 0.9474 - val_loss: nan - val_accuracy: 0.5833\n",
      "Epoch 89/100\n",
      "37/37 [==============================] - 0s 3ms/step - loss: 0.1796 - accuracy: 0.9307 - val_loss: nan - val_accuracy: 0.6026\n",
      "Epoch 90/100\n",
      "37/37 [==============================] - 0s 3ms/step - loss: 0.1585 - accuracy: 0.9446 - val_loss: nan - val_accuracy: 0.5769\n",
      "Epoch 91/100\n",
      "37/37 [==============================] - 0s 3ms/step - loss: 0.1550 - accuracy: 0.9501 - val_loss: nan - val_accuracy: 0.5962\n",
      "Epoch 92/100\n",
      "37/37 [==============================] - 0s 3ms/step - loss: 0.1564 - accuracy: 0.9363 - val_loss: nan - val_accuracy: 0.5897\n",
      "Epoch 93/100\n",
      "37/37 [==============================] - 0s 3ms/step - loss: 0.1528 - accuracy: 0.9474 - val_loss: nan - val_accuracy: 0.5962\n",
      "Epoch 94/100\n",
      "37/37 [==============================] - 0s 3ms/step - loss: 0.1506 - accuracy: 0.9418 - val_loss: nan - val_accuracy: 0.5897\n",
      "Epoch 95/100\n",
      "37/37 [==============================] - 0s 3ms/step - loss: 0.1466 - accuracy: 0.9501 - val_loss: nan - val_accuracy: 0.5897\n",
      "Epoch 96/100\n",
      "37/37 [==============================] - 0s 3ms/step - loss: 0.1471 - accuracy: 0.9501 - val_loss: nan - val_accuracy: 0.5705\n",
      "Epoch 97/100\n",
      "37/37 [==============================] - 0s 3ms/step - loss: 0.1444 - accuracy: 0.9501 - val_loss: nan - val_accuracy: 0.5833\n",
      "Epoch 98/100\n",
      "37/37 [==============================] - 0s 3ms/step - loss: 0.1460 - accuracy: 0.9474 - val_loss: nan - val_accuracy: 0.6026\n",
      "Epoch 99/100\n",
      "37/37 [==============================] - 0s 4ms/step - loss: 0.1439 - accuracy: 0.9557 - val_loss: nan - val_accuracy: 0.5769\n",
      "Epoch 100/100\n",
      "37/37 [==============================] - 0s 3ms/step - loss: 0.1393 - accuracy: 0.9501 - val_loss: nan - val_accuracy: 0.5769\n"
     ]
    }
   ],
   "source": [
    "history = model.fit(X,Y, validation_split=0.3,epochs=100,batch_size=10)"
   ]
  },
  {
   "cell_type": "markdown",
   "id": "66f93a65",
   "metadata": {},
   "source": [
    "## `Evaluating Model`"
   ]
  },
  {
   "cell_type": "code",
   "execution_count": 21,
   "id": "9ef586be",
   "metadata": {},
   "outputs": [
    {
     "name": "stdout",
     "output_type": "stream",
     "text": [
      "17/17 [==============================] - 0s 2ms/step - loss: nan - accuracy: 0.8395\n",
      "accuracy:83.95%\n"
     ]
    }
   ],
   "source": [
    "scores= model.evaluate(X,Y)\n",
    "print(\"%s:%.2f%%\" %(model.metrics_names[1],scores[1]*100))"
   ]
  },
  {
   "cell_type": "code",
   "execution_count": 22,
   "id": "ebee294e",
   "metadata": {},
   "outputs": [
    {
     "data": {
      "text/plain": [
       "dict_keys(['loss', 'accuracy', 'val_loss', 'val_accuracy'])"
      ]
     },
     "execution_count": 22,
     "metadata": {},
     "output_type": "execute_result"
    }
   ],
   "source": [
    "history.history.keys()"
   ]
  },
  {
   "cell_type": "markdown",
   "id": "cc524e03",
   "metadata": {},
   "source": [
    "## `Summarize History For Accuracy`"
   ]
  },
  {
   "cell_type": "code",
   "execution_count": 23,
   "id": "2ad20e2b",
   "metadata": {},
   "outputs": [
    {
     "data": {
      "image/png": "[encoded data removed]",
      "text/plain": [
       "<Figure size 864x576 with 1 Axes>"
      ]
     },
     "metadata": {
      "needs_background": "light"
     },
     "output_type": "display_data"
    }
   ],
   "source": [
    "%matplotlib inline\n",
    "plt.figure(figsize=(12,8))\n",
    "plt.plot(history.history['accuracy'])\n",
    "plt.plot(history.history['val_accuracy'])\n",
    "plt.title('Model Accuracy')\n",
    "plt.ylabel('accuracy')\n",
    "plt.xlabel('epoch')\n",
    "plt.legend(['Train','Test'],loc='upper right')\n",
    "plt.show()"
   ]
  }
 ],
 "metadata": {
  "kernelspec": {
   "display_name": "Python 3",
   "language": "python",
   "name": "python3"
  },
  "language_info": {
   "codemirror_mode": {
    "name": "ipython",
    "version": 3
   },
   "file_extension": ".py",
   "mimetype": "text/x-python",
   "name": "python",
   "nbconvert_exporter": "python",
   "pygments_lexer": "ipython3",
   "version": "3.8.8"
  }
 },
 "nbformat": 4,
 "nbformat_minor": 5
}
